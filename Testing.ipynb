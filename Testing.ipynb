{
 "cells": [
  {
   "cell_type": "code",
   "execution_count": null,
   "metadata": {},
   "outputs": [],
   "source": [
    "from Forms import *\n",
    "\n",
    "table15 = FormTable(13, CLASSICAL_TRUTH, [CLASSICAL_IMPLICATION, CLASSICAL_NEGATION])\n",
    "\n",
    "def test():\n",
    "    count = 0\n",
    "    for expression in table15.__iter__():\n",
    "        count += 1\n",
    "        #if count % 10000 == 0:\n",
    "        #    print(count)\n",
    "    print(count)\n",
    "\n",
    "%prun test()"
   ]
  },
  {
   "cell_type": "code",
   "execution_count": null,
   "metadata": {},
   "outputs": [],
   "source": [
    "def func():\n",
    "    i = iter(\"ABCDE\")\n",
    "    return [next(i) if c==\"_\" else c for c in \"C_CC_CNN___\"]\n",
    "%timeit func()"
   ]
  },
  {
   "cell_type": "code",
   "execution_count": null,
   "metadata": {},
   "outputs": [],
   "source": [
    "def func():\n",
    "    i = iter([1,2,3,4,5])\n",
    "    return [next(i) if c==0 else c for c in [-1, 0, -1, -1, 0, -1, -2, -2, 0, 0, 0]]\n",
    "%timeit func()"
   ]
  },
  {
   "cell_type": "code",
   "execution_count": null,
   "metadata": {},
   "outputs": [],
   "source": [
    "import numpy as np\n",
    "a1 = np.repeat(np.array([-1, 0, -1, -1, 0, -1, -2, -2, 0, 0, 0]), 1000)\n",
    "a2 = np.repeat(np.array([1,2,3,4,5]), 1000)\n",
    "def func():\n",
    "    a3 = a1.copy()\n",
    "    a3[a1==0] = a2\n",
    "    return a3\n",
    "%timeit func()"
   ]
  },
  {
   "cell_type": "code",
   "execution_count": null,
   "metadata": {},
   "outputs": [],
   "source": []
  },
  {
   "cell_type": "code",
   "execution_count": null,
   "metadata": {},
   "outputs": [],
   "source": [
    "from Forms import *\n",
    "\n",
    "arr = Form([FormOpSpec(CLASSICAL_IMPLICATION, 4), FormOpSpec(CLASSICAL_NEGATION, 2)], [FormConstSpec(\"o\", 2)])\n",
    "b = Form([FormOpSpec(CLASSICAL_IMPLICATION, 4), FormOpSpec(CLASSICAL_NEGATION, 2)])\n",
    "print(arr.base_element)\n",
    "print(arr._order_grounded(0))\n",
    "print(arr._order_grounded(-1))\n",
    "print(arr._order_grounded(-2))\n",
    "print(arr._order_grounded(-3))\n",
    "print(\"===========================\")\n",
    "element = np.array([-3, -3, 0, -1, -2, -3, -2, 0, -3, -1, 0])\n",
    "print(element)\n",
    "print(arr.isa_member(element))\n",
    "print(\"===========================\")\n",
    "print(\"===========================\")\n",
    "print(\"===========================\")\n",
    "arr._ground_element(element, -3)\n",
    "print(element)\n",
    "print(\"===========================\")\n",
    "element = np.array([-3, -3, 0, -1, -2, -3, -2, 0, -3, -1, 0])\n",
    "print(element)\n",
    "arr._reset_right(element, -1, 5)\n",
    "print(element)\n",
    "print(\"===========================\")\n",
    "arr._next(element, -1)\n",
    "arr._next(element, -1)\n",
    "print(element)\n",
    "print(\"===========================\")\n",
    "element = np.array([-3, -3, -3, -3, -2, -1, -2, 0, -1, 0, 0])\n",
    "arr._reset_right(element, -2, 7)\n",
    "print(element)"
   ]
  },
  {
   "cell_type": "code",
   "execution_count": null,
   "metadata": {},
   "outputs": [],
   "source": [
    "count = 0\n",
    "for exp in arr.raw_all:\n",
    "    count += 1\n",
    "print(count)\n",
    "count = 0\n",
    "for exp in arr.__iter__():\n",
    "    count += 1\n",
    "print(count)"
   ]
  },
  {
   "cell_type": "code",
   "execution_count": null,
   "metadata": {},
   "outputs": [],
   "source": [
    "arr.check_array()"
   ]
  },
  {
   "cell_type": "code",
   "execution_count": null,
   "metadata": {},
   "outputs": [],
   "source": [
    "from ModelTools import *\n",
    "CN_STANDARD_MODEL(np.array([-3, -2, 1, -2, 2, 1], dtype=np.int8), \"Verify\")\n",
    "#i(i(i(i(i(X,Y),i(n(Z),n(U))),Z),V),i(i(V,X),i(U,X)))\n",
    "CN_STANDARD_MODEL(np.array([-3, -2, -2, -2, -2, -2, 1, 2, -2, -1, 3, -1, 4, 3, 5, -2, -2, 5, 1, -2, 4, 1], dtype=np.int8), \"Verify\")"
   ]
  },
  {
   "cell_type": "code",
   "execution_count": null,
   "metadata": {},
   "outputs": [],
   "source": []
  },
  {
   "cell_type": "code",
   "execution_count": null,
   "metadata": {},
   "outputs": [],
   "source": [
    "%load_ext line_profiler\n",
    "\n",
    "from Forms import *\n",
    "arr = Form([FormOpSpec(CLASSICAL_IMPLICATION, 6), FormOpSpec(CLASSICAL_NEGATION, 7)])\n",
    "\n",
    "#%lprun -m Forms print(a.array.shape)\n",
    "print(arr.length)\n",
    "print(arr.array.shape)"
   ]
  },
  {
   "cell_type": "code",
   "execution_count": null,
   "metadata": {},
   "outputs": [],
   "source": [
    "#C6N7: 9m 39.1s\n",
    "#20: 95.3\n",
    "#18: 22.1\n",
    "#16: 4.5\n",
    "#14: .9"
   ]
  },
  {
   "cell_type": "code",
   "execution_count": 1,
   "metadata": {},
   "outputs": [
    {
     "name": "stdout",
     "output_type": "stream",
     "text": [
      "CNCounterModels/countermodel-2-0\n",
      "Recovered 1 models.\n",
      "Processed 5797 formulas.\n"
     ]
    }
   ],
   "source": [
    "#%load_ext line_profiler\n",
    "#%load_ext memory_profiler\n",
    "\n",
    "from TreeForms import *\n",
    "from TestingUtils import *\n",
    "\n",
    "def func():\n",
    "    vampire_executable_file_name: str = \"../.././vampire\"\n",
    "    counter_model_sets: list[list[str]] = [[\"t(i(i(i(i(i(X,Y),i(n(Z),n(U))),Z),V),i(i(V,X),i(U,X))))\"]]\n",
    "    counter_model_folder: str = \"CNCounterModels\"\n",
    "\n",
    "    CN = TreeForm(CN_OPERATIONS[1:], CN_OPERATIONS[0], 14)\n",
    "    test_table = ModelTable(CN_SPEC, counter_model_folder=counter_model_folder)\n",
    "\n",
    "    num = 14\n",
    "\n",
    "    vampire_wrapper = create_vampire_countermodel_instance(vampire_executable_file_name, counter_model_sets, counter_model_folder, CN_SPEC, verify_models=True)\n",
    "\n",
    "    CN.process_tree(num, test_table, vampire_wrapper, \"test_pass.txt\")\n",
    "\n",
    "func()\n",
    "#%memit func()\n",
    "#%prun func()\n",
    "#%lprun -f TreeForm.Node.process func()\n",
    "#%lprun -f TreeForm.Node.calculate func()\n",
    "#%lprun -f apply_fill_to_cache func()\n",
    "#%lprun -f Model.calculate func()\n",
    "#%lprun -f dimensionally_reorganized_array func()\n",
    "#%lprun -m ModelTools func()\n",
    "#%lprun -m FillTools func()"
   ]
  },
  {
   "cell_type": "code",
   "execution_count": 2,
   "metadata": {},
   "outputs": [],
   "source": [
    "#Times:\n",
    "#@13 cache\n",
    "#10: 1.3s\n",
    "#11: 1.6s\n",
    "#12: 3.4s\n",
    "#13: 9.7s\n",
    "#14: 38.5s\n",
    "#15: \n",
    "\n",
    "#Memory:\n",
    "#@13 cache\n",
    "#13: 124.62MiB\n",
    "#14: 125.10 MiB\n",
    "#@14 cache\n",
    "#14: 169.97 MiB"
   ]
  },
  {
   "cell_type": "code",
   "execution_count": 1,
   "metadata": {},
   "outputs": [
    {
     "name": "stdout",
     "output_type": "stream",
     "text": [
      "Processed 132 formulas.\n"
     ]
    }
   ],
   "source": [
    "%load_ext line_profiler\n",
    "%load_ext memory_profiler\n",
    "\n",
    "from TreeForms import *\n",
    "from TestingUtils import *\n",
    "\n",
    "def func():\n",
    "    arr = np.ones(2, dtype=np.int8)\n",
    "\n",
    "    C0 = TreeForm(C_OPERATIONS[1:], C_OPERATIONS[0], 13)\n",
    "    test_table = ModelTable(C0_SPEC, counter_model_folder=\"tmp_testing\")\n",
    "\n",
    "    C0.process_tree(13, test_table, BLANK_VAMPIRE_WRAPPER, \"reamining_testing.txt\")\n",
    "\n",
    "func()"
   ]
  },
  {
   "cell_type": "code",
   "execution_count": null,
   "metadata": {},
   "outputs": [],
   "source": []
  },
  {
   "cell_type": "code",
   "execution_count": 1,
   "metadata": {},
   "outputs": [
    {
     "name": "stdout",
     "output_type": "stream",
     "text": [
      "(3, 5)\n",
      "[[0 0 0 0 0]\n",
      " [0 0 1 1 1]\n",
      " [0 1 0 1 2]]\n",
      "[0, 1]\n",
      "[False False  True  True  True]\n",
      "[ True False]\n"
     ]
    }
   ],
   "source": [
    "import numpy as np\n",
    "import FillTools\n",
    "\n",
    "FillTools._initialize_fill_table(3)\n",
    "\n",
    "print(FillTools._fill_table_fills.shape)\n",
    "\n",
    "print(FillTools._fill_table_fills)\n",
    "\n",
    "print(FillTools.fill_dimensions(FillTools.Fill(1, 2)))\n",
    "\n",
    "print(FillTools.fill_upward_cleave(1, 3))\n",
    "\n",
    "print(FillTools.fill_result_disassembly_application(np.array([[True, True], [False, True]])))"
   ]
  },
  {
   "cell_type": "code",
   "execution_count": null,
   "metadata": {},
   "outputs": [],
   "source": [
    "i = 0\n",
    "''.join([\"abcdef\"[(i := i + 1)] if c == \"_\" else c for c in \"1_2_3_\"])"
   ]
  },
  {
   "cell_type": "code",
   "execution_count": 5,
   "metadata": {},
   "outputs": [
    {
     "data": {
      "text/plain": [
       "[(0, 0, 0, 0)]"
      ]
     },
     "execution_count": 5,
     "metadata": {},
     "output_type": "execute_result"
    }
   ],
   "source": [
    "import itertools\n",
    "s = 4\n",
    "d = 2\n",
    "list(itertools.product(range(2), repeat=4))\n",
    "list(itertools.product(range(1), repeat=4))"
   ]
  },
  {
   "cell_type": "code",
   "execution_count": 2,
   "metadata": {},
   "outputs": [
    {
     "data": {
      "text/plain": [
       "[(1, 4), (1, 5), (2, 4), (2, 5), (3, 4), (3, 5)]"
      ]
     },
     "execution_count": 2,
     "metadata": {},
     "output_type": "execute_result"
    }
   ],
   "source": [
    "import itertools\n",
    "\n",
    "list(itertools.product([1,2,3], [4,5]))"
   ]
  },
  {
   "cell_type": "code",
   "execution_count": 6,
   "metadata": {},
   "outputs": [
    {
     "data": {
      "text/plain": [
       "array([2, 4])"
      ]
     },
     "execution_count": 6,
     "metadata": {},
     "output_type": "execute_result"
    }
   ],
   "source": [
    "import numpy as np\n",
    "\n",
    "np.sum([np.array([1,2]), np.array([1,2])], axis=0)"
   ]
  },
  {
   "cell_type": "code",
   "execution_count": 1,
   "metadata": {},
   "outputs": [
    {
     "name": "stdout",
     "output_type": "stream",
     "text": [
      "1\n",
      "2\n",
      "5\n",
      "15\n",
      "52\n",
      "=========\n",
      "0\n",
      "0\n",
      "2\n",
      "9\n",
      "36\n"
     ]
    }
   ],
   "source": [
    "from MathUtilities import *\n",
    "\n",
    "for i in range(5):\n",
    "    print(degenerate_constant_combinations(i))\n",
    "\n",
    "print(\"=========\")\n",
    "for i in range(5):\n",
    "    print(nondegenerate_constant_combinations(i))"
   ]
  },
  {
   "cell_type": "code",
   "execution_count": 2,
   "metadata": {},
   "outputs": [
    {
     "data": {
      "text/plain": [
       "(1, 2, 3)"
      ]
     },
     "execution_count": 2,
     "metadata": {},
     "output_type": "execute_result"
    }
   ],
   "source": [
    "import numpy as np\n",
    "\n",
    "tuple(np.array([1,2,3]))"
   ]
  },
  {
   "cell_type": "code",
   "execution_count": 1,
   "metadata": {},
   "outputs": [
    {
     "name": "stdout",
     "output_type": "stream",
     "text": [
      " "
     ]
    },
    {
     "name": "stdout",
     "output_type": "stream",
     "text": [
      "         3576009 function calls (3570677 primitive calls) in 7.933 seconds\n",
      "\n",
      "   Ordered by: internal time\n",
      "\n",
      "   ncalls  tottime  percall  cumtime  percall filename:lineno(function)\n",
      "        1    2.544    2.544    7.123    7.123 FillTools.py:292(_generate_subsumptive_table)\n",
      "    21147    2.248    0.000    2.435    0.000 FillTools.py:269(_subsumed_points)\n",
      "   109832    1.186    0.000    1.893    0.000 FillTools.py:238(point_to_fill)\n",
      "        2    0.485    0.243    0.485    0.243 {method 'astype' of 'numpy.ndarray' objects}\n",
      "        1    0.447    0.447    7.933    7.933 FillTools.py:354(_initialize_fill_table)\n",
      "    21146    0.191    0.000    0.252    0.000 FillTools.py:194(_point_to_fill_cached)\n",
      "   958024    0.165    0.000    0.165    0.000 {method 'keys' of 'dict' objects}\n",
      "  1309816    0.146    0.000    0.146    0.000 {method 'append' of 'list' objects}\n",
      "   109832    0.108    0.000    0.108    0.000 {built-in method __new__ of type object at 0x00007FF9ABA9A4B0}\n",
      "    21147    0.096    0.000    0.096    0.000 {method 'reduce' of 'numpy.ufunc' objects}\n",
      "   211452    0.087    0.000    0.087    0.000 {built-in method builtins.max}\n",
      "   571412    0.056    0.000    0.056    0.000 {built-in method builtins.len}\n",
      "26433/21146    0.051    0.000    0.116    0.000 FillTools.py:325(_add_with_carry)\n",
      "   109832    0.043    0.000    0.151    0.000 <string>:1(<lambda>)\n",
      "    42293    0.031    0.000    0.031    0.000 {method 'copy' of 'numpy.ndarray' objects}\n",
      "    21147    0.018    0.000    0.125    0.000 {method 'max' of 'numpy.ndarray' objects}\n",
      "    21147    0.011    0.000    0.107    0.000 _methods.py:39(_amax)\n",
      "     5287    0.010    0.000    0.010    0.000 {built-in method numpy.core._multiarray_umath.implement_array_function}\n",
      "     5287    0.005    0.000    0.016    0.000 <__array_function__ internals>:177(concatenate)\n",
      "     5287    0.004    0.000    0.004    0.000 {built-in method numpy.array}\n",
      "     5287    0.001    0.000    0.001    0.000 multiarray.py:152(concatenate)\n",
      "     45/9    0.000    0.000    0.000    0.000 MathUtilities.py:85(triangular_counter)\n",
      "        2    0.000    0.000    0.000    0.000 {built-in method numpy.zeros}\n",
      "        1    0.000    0.000    7.933    7.933 {built-in method builtins.exec}\n",
      "     10/1    0.000    0.000    0.000    0.000 MathUtilities.py:34(bells)\n",
      "       45    0.000    0.000    0.000    0.000 MathUtilities.py:3(binomial)\n",
      "       45    0.000    0.000    0.000    0.000 _basic.py:2591(comb)\n",
      "       45    0.000    0.000    0.000    0.000 {scipy.special._comb._comb_int}\n",
      "        2    0.000    0.000    0.000    0.000 {method 'setflags' of 'numpy.ndarray' objects}\n",
      "        1    0.000    0.000    7.933    7.933 <string>:1(<module>)\n",
      "        1    0.000    0.000    0.000    0.000 {method 'disable' of '_lsprof.Profiler' objects}"
     ]
    }
   ],
   "source": [
    "from FillTools import *\n",
    "from FillTools import _initialize_fill_table\n",
    "\n",
    "%prun _initialize_fill_table(9)"
   ]
  },
  {
   "cell_type": "code",
   "execution_count": 46,
   "metadata": {},
   "outputs": [
    {
     "name": "stdout",
     "output_type": "stream",
     "text": [
      "4: 0, 0\n",
      "3: 1, 1\n",
      "2: 0, 2\n",
      "1: 0, 2\n",
      "0: 1, 2\n"
     ]
    },
    {
     "data": {
      "text/plain": [
       "15"
      ]
     },
     "execution_count": 46,
     "metadata": {},
     "output_type": "execute_result"
    }
   ],
   "source": [
    "import functools\n",
    "from MathUtilities import bells\n",
    "\n",
    "\n",
    "eval_fill((0, 1, 0, 0, 1))"
   ]
  },
  {
   "cell_type": "code",
   "execution_count": 1,
   "metadata": {},
   "outputs": [
    {
     "name": "stdout",
     "output_type": "stream",
     "text": [
      "=================================Initialized Process Tracker\n",
      "N/A\n",
      "[--------------------] 0.0% : 0/111\n"
     ]
    },
    {
     "name": "stdout",
     "output_type": "stream",
     "text": [
      "\u001b[F\u001b[K\u001b[F\u001b[K\u001b[F\u001b[KThinking\n",
      "N/A\n",
      "[--------------------] 0.0% : 0/111\n",
      "\u001b[F\u001b[K\u001b[F\u001b[K\u001b[F\u001b[KThinking\n",
      "a^2 + b^2 = c^2 + AI\n",
      "[--------------------] 0.0% : 0/111\n",
      "\u001b[F\u001b[K\u001b[F\u001b[K\u001b[F\u001b[KThinking\n",
      "a^2 + b^2 = c^2 + AI\n",
      "[#########-----------] 0.45% : 50/111\n",
      "\u001b[F\u001b[K\u001b[F\u001b[K\u001b[F\u001b[KTrolling\n",
      "a^2 + b^2 = c^2 + AI\n",
      "[#########-----------] 0.45% : 50/111\n",
      "\u001b[F\u001b[K\u001b[F\u001b[K\u001b[F\u001b[KTrolling\n",
      "a^2 + b^2 = c^2 + AI\n",
      "[####----------------] 0.225% : 25/111\n",
      "\u001b[F\u001b[K\u001b[F\u001b[K\u001b[F\u001b[KTrolling\n",
      "a^2 + b^2 = c^2 + AI\n",
      "[#########-----------] 0.495% : 55/111\n",
      "\u001b[F\u001b[K\u001b[F\u001b[K\u001b[F\u001b[KTrolling\n",
      "a^2 + b^2 = c^2 + AI\n",
      "[###############-----] 0.766% : 85/111\n"
     ]
    }
   ],
   "source": []
  },
  {
   "cell_type": "code",
   "execution_count": 33,
   "metadata": {},
   "outputs": [
    {
     "data": {
      "text/plain": [
       "3"
      ]
     },
     "execution_count": 33,
     "metadata": {},
     "output_type": "execute_result"
    }
   ],
   "source": [
    "B(1, 3)"
   ]
  },
  {
   "cell_type": "code",
   "execution_count": 1,
   "metadata": {},
   "outputs": [
    {
     "name": "stdout",
     "output_type": "stream",
     "text": [
      "{OperationSpec(symbol='T', vampire_symbol='t', arity=1, default_table=array([False,  True])): array([False, False, False,  True, False,  True, False]), OperationSpec(symbol='C', vampire_symbol='i', arity=2, default_table=array([[1, 1],\n",
      "       [0, 1]], dtype=int8)): array([[6, 6, 4, 4, 6, 4, 6],\n",
      "       [6, 6, 6, 4, 6, 4, 6],\n",
      "       [6, 4, 4, 4, 6, 4, 6],\n",
      "       [7, 3, 2, 4, 5, 4, 7],\n",
      "       [5, 6, 5, 4, 6, 4, 5],\n",
      "       [3, 3, 3, 4, 5, 4, 3],\n",
      "       [6, 6, 6, 4, 4, 4, 6]], dtype=int8)}\n",
      "{ConstantSpec(symbol='F', vampire_symbol='o', default_value=0): 0}\n"
     ]
    }
   ],
   "source": [
    "from ModelTools import *\n",
    "\n",
    "mod = Model(C0_SPEC, model_filename=\"C0CCC12C3CC40OCC031.out\")\n",
    "print(mod.operation_definitions)\n",
    "print(mod.constant_definitions)\n"
   ]
  },
  {
   "cell_type": "code",
   "execution_count": 8,
   "metadata": {},
   "outputs": [],
   "source": [
    "import numpy as np\n",
    "import random\n",
    "\n",
    "A: list[int] = [random.randrange(0, 10, 1) for _ in range(10)]\n",
    "B: list[int] = [random.randrange(0, 10, 1) for _ in range(10)]\n",
    "Arr = np.array(A, dtype=np.int8)\n",
    "Brr = np.array(B, dtype=np.int8)\n",
    "Asp: list[np.int8] = [np.int8(a) for a in A]\n",
    "Bsp: list[np.int8] = [np.int8(b) for b in B]"
   ]
  },
  {
   "cell_type": "code",
   "execution_count": null,
   "metadata": {},
   "outputs": [],
   "source": [
    "%timeit [a for a in A if a not in B]"
   ]
  },
  {
   "cell_type": "code",
   "execution_count": null,
   "metadata": {},
   "outputs": [],
   "source": [
    "%timeit [a for a in Asp if a not in Bsp]"
   ]
  },
  {
   "cell_type": "code",
   "execution_count": null,
   "metadata": {},
   "outputs": [],
   "source": [
    "%timeit np.array([a for a in Arr if a not in Brr], dtype=np.int8)"
   ]
  },
  {
   "cell_type": "code",
   "execution_count": null,
   "metadata": {},
   "outputs": [],
   "source": [
    "%timeit np.setdiff1d(Arr, Brr, assume_unique=True).astype(np.int8)"
   ]
  },
  {
   "cell_type": "code",
   "execution_count": null,
   "metadata": {},
   "outputs": [],
   "source": [
    "%timeit [a for a in Arr.tolist() if a not in Brr.tolist()]"
   ]
  },
  {
   "cell_type": "code",
   "execution_count": null,
   "metadata": {},
   "outputs": [],
   "source": [
    "print(CN._PSUDEO_NODE_CACHE[2])"
   ]
  },
  {
   "cell_type": "code",
   "execution_count": 8,
   "metadata": {},
   "outputs": [
    {
     "data": {
      "text/plain": [
       "[(1, 1, 4),\n",
       " (1, 2, 3),\n",
       " (1, 3, 2),\n",
       " (1, 4, 1),\n",
       " (2, 1, 3),\n",
       " (2, 2, 2),\n",
       " (2, 3, 1),\n",
       " (3, 1, 2),\n",
       " (3, 2, 1),\n",
       " (4, 1, 1)]"
      ]
     },
     "execution_count": 8,
     "metadata": {},
     "output_type": "execute_result"
    }
   ],
   "source": [
    "def node_size_combos(remaining_slots: int, remaining_size: int) -> Iterable[tuple[int, ...]]:\n",
    "    if remaining_slots==1:\n",
    "        yield (remaining_size, )\n",
    "    else:\n",
    "        for i in range(1, remaining_size + 1 - remaining_slots + 1):\n",
    "            for comb in node_size_combos(remaining_slots - 1, remaining_size - i):\n",
    "                yield (i,) + comb\n",
    "\n",
    "list(node_size_combos(3, 6))"
   ]
  },
  {
   "cell_type": "code",
   "execution_count": null,
   "metadata": {},
   "outputs": [],
   "source": []
  },
  {
   "cell_type": "markdown",
   "metadata": {},
   "source": [
    "CN__\n",
    "C_N_\n",
    "NC__\n",
    "NNN_"
   ]
  },
  {
   "cell_type": "code",
   "execution_count": null,
   "metadata": {},
   "outputs": [],
   "source": []
  },
  {
   "cell_type": "code",
   "execution_count": null,
   "metadata": {},
   "outputs": [],
   "source": [
    "from MathUtilities import bells\n",
    "from FillTools import FillTable.Fills, _check_surjective_table, _generate_surjective_table_dumb, _generate_surjective_table_pseudo\n",
    "import numpy as np\n",
    "\n",
    "num = 6\n",
    "print(bells(num))\n",
    "fills, table = FillTable._initialize_fill_table(num)\n",
    "print(fills.shape)\n",
    "print(table.shape)\n",
    "#print(fills[fills.max(axis=1)==2])\n",
    "print(fills)"
   ]
  },
  {
   "cell_type": "code",
   "execution_count": null,
   "metadata": {},
   "outputs": [],
   "source": [
    "_generate_surjective_table_dumb(num, fills)"
   ]
  },
  {
   "cell_type": "code",
   "execution_count": null,
   "metadata": {},
   "outputs": [],
   "source": [
    "_generate_surjective_table_pseudo(num, fills)"
   ]
  },
  {
   "cell_type": "code",
   "execution_count": null,
   "metadata": {},
   "outputs": [],
   "source": [
    "_check_surjective_table(num, fills)"
   ]
  },
  {
   "cell_type": "code",
   "execution_count": null,
   "metadata": {},
   "outputs": [],
   "source": [
    "%load_ext line_profiler\n",
    "from Forms import *\n",
    "from VampireUtils import *\n",
    "\n",
    "def func():\n",
    "    test_forms = FormTable(12, CLASSICAL_TRUTH, [CLASSICAL_IMPLICATION, CLASSICAL_NEGATION]) #14\n",
    "    test_models = ModelTable(CN_SPEC, CN_STANDARD_MODEL) #[CLASSICAL_TRUTH, CLASSICAL_IMPLICATION, CLASSICAL_NEGATION]\n",
    "    #test_models = ModelTable(Model([np.array([True, False, True], dtype=np.bool_), \n",
    "    #                                np.array([[1, 2, 0], [2, 2, 0], [1, 0, 1]], dtype=np.int8),\n",
    "    #                                np.array([1, 2, 1], dtype=np.int8)])) #random 3 size\n",
    "    \n",
    "    #for forms, fills in test_forms.array:\n",
    "    #    print(forms)\n",
    "\n",
    "    test_forms.process(test_models, BLANK_VAMPIRE_WRAPPER, \"test_excess.txt\")\n",
    "\n",
    "#%lprun -m ModelTools func()\n",
    "%lprun -m Forms func()"
   ]
  },
  {
   "cell_type": "code",
   "execution_count": null,
   "metadata": {},
   "outputs": [],
   "source": [
    "#11: 4s\n",
    "#12: 13s\n",
    "#13: 39s\n",
    "#14: 118s"
   ]
  },
  {
   "cell_type": "code",
   "execution_count": null,
   "metadata": {},
   "outputs": [],
   "source": [
    "list(range(1, 10))[1::2]"
   ]
  },
  {
   "cell_type": "code",
   "execution_count": null,
   "metadata": {},
   "outputs": [],
   "source": [
    "def remove_duplicates(lst):\n",
    "    seen = set()\n",
    "    return [x for x in lst if x not in seen and not seen.add(x)]\n",
    "\n",
    "# Example usage\n",
    "lst = [1, 2, 2, 6, 3, 4, 1, 5, 3]\n",
    "result = remove_duplicates(lst)\n",
    "print(result)  # Output: [1, 2, 3, 4, 5]"
   ]
  },
  {
   "cell_type": "code",
   "execution_count": null,
   "metadata": {},
   "outputs": [],
   "source": [
    "import numpy as np\n",
    "\n",
    "arr = np.arange(8).reshape(2,2,2)\n",
    "diagonal_dims = [2, 1, 0]\n",
    "#print(arr.diagonal(0, diagonal_dims[0], diagonal_dims[1]))\n",
    "#for indices in np.ndindex(arr.shape):\n",
    "#    if indices[diagonal_dims[0]]==indices[diagonal_dims[1]]:\n",
    "#        print(arr[indices])\n",
    "\n",
    "grids = np.stack(np.meshgrid(*[np.arange(dim) for dim in arr.shape], indexing='ij'))\n",
    "mask = np.all(grids[diagonal_dims[0]]==grids[diagonal_dims], axis=0)\n",
    "print(arr[mask])\n",
    "mask"
   ]
  },
  {
   "cell_type": "code",
   "execution_count": null,
   "metadata": {},
   "outputs": [],
   "source": [
    "import numpy as np\n",
    "from ModelTools import apply_fill_to_cache, _apply_fill_to_cache_forced_iteration\n",
    "\n",
    "A = np.arange(81).reshape(3,3,3,3)\n",
    "print(apply_fill_to_cache(A, np.array([5,5,5,2,3,3])))\n",
    "print(_apply_fill_to_cache_forced_iteration(A, np.array([5,5,5,2,3,3])))\n",
    "print(A)"
   ]
  },
  {
   "cell_type": "code",
   "execution_count": null,
   "metadata": {},
   "outputs": [],
   "source": [
    "import numpy as np\n",
    "def func(x):\n",
    "    x += 1\n",
    "\n",
    "A = np.array([0, 1, 2])\n",
    "func(A[1:])\n",
    "A"
   ]
  },
  {
   "cell_type": "code",
   "execution_count": null,
   "metadata": {},
   "outputs": [],
   "source": [
    "def valid_dyck_word(word, arity = 2):\n",
    "    if word[0]!=0:\n",
    "        return False\n",
    "    \n",
    "    for i in range(1, len(word)):\n",
    "        if word[i] > i * (arity - 1):\n",
    "            return False\n",
    "        if word[i] < word[i-1]:\n",
    "            return False\n",
    "        \n",
    "    if word[-1]!=(len(word)-1)*(arity - 1):\n",
    "        return False\n",
    "        \n",
    "    return True\n",
    "\n",
    "def _iterate_word(word, arity = 2):\n",
    "    word[-1] += 1\n",
    "    i = len(word) - 1\n",
    "    while word[i] > (i + 1) * (arity - 1):\n",
    "        if i==0:\n",
    "            word[0] = 10 * arity\n",
    "            return\n",
    "        word[i-1] += 1\n",
    "        word[i] = word[i-1]\n",
    "    \n",
    "def word_iter(count, arity = 2):\n",
    "    current_word = [0] * (count-1)\n",
    "    while valid_dyck_word([0]+current_word+[count * (arity - 1)], arity=arity):\n",
    "        yield [0]+current_word+[count * (arity - 1)]\n",
    "        _iterate_word(current_word, arity=arity)\n",
    "\n",
    "def dyck_word_to_exp(word, letter=\"D\"):\n",
    "    exp = \"\"\n",
    "    for i in range(1, len(word)):\n",
    "        exp += letter + \"_\" * (word[i] - word[i-1])\n",
    "    exp += \"_\"\n",
    "    return exp\n",
    "\n",
    "word = [0,1,1,3,4]\n",
    "print(valid_dyck_word(word))\n",
    "print(dyck_word_to_exp(word))\n",
    "\n",
    "word = [0,1,2,5,8]\n",
    "print(valid_dyck_word(word, arity=3))\n",
    "print(dyck_word_to_exp(word))\n",
    "word = [1,2,6]\n",
    "_iterate_word(word, arity=3)\n",
    "print(word)"
   ]
  },
  {
   "cell_type": "code",
   "execution_count": null,
   "metadata": {},
   "outputs": [],
   "source": [
    "for word in word_iter(3, arity=3):\n",
    "    print(dyck_word_to_exp(word))"
   ]
  },
  {
   "cell_type": "code",
   "execution_count": null,
   "metadata": {},
   "outputs": [],
   "source": [
    "\n",
    "\n",
    "\n",
    "CN = Form([('C', 2, 4), ('N', 1, 2)])\n",
    "print(\"================\")\n",
    "print(CN.ground_state)\n",
    "print(\"================\")\n",
    "print(CN._valid_state(\"C_CC_C__NN_\"))\n",
    "print(\"================\")\n",
    "print(CN._valid_state(\"CCCC_____NN\"))\n",
    "print(\"================\")\n",
    "print(CN._valid_state(\"CCC____C___\"))\n",
    "print(\"================\")\n",
    "print(CN._ground_state(\"C_CC_CNN___\", level=2))"
   ]
  },
  {
   "cell_type": "code",
   "execution_count": null,
   "metadata": {},
   "outputs": [],
   "source": [
    "CND = Form([('C', 2, 2), ('N', 1, 1), ('D', 3, 2)])\n",
    "CND.check_iter()\n",
    "for exp in CND:\n",
    "    print(exp)"
   ]
  },
  {
   "cell_type": "code",
   "execution_count": null,
   "metadata": {},
   "outputs": [],
   "source": [
    "CN.check_iter()"
   ]
  },
  {
   "cell_type": "code",
   "execution_count": null,
   "metadata": {},
   "outputs": [],
   "source": [
    "for exp in CN:\n",
    "    print(exp)"
   ]
  },
  {
   "cell_type": "code",
   "execution_count": null,
   "metadata": {},
   "outputs": [],
   "source": [
    "'CCC_NC__N__'"
   ]
  },
  {
   "cell_type": "code",
   "execution_count": null,
   "metadata": {},
   "outputs": [],
   "source": [
    "A = [0, 1, 2, 3]\n",
    "A[2]"
   ]
  },
  {
   "cell_type": "code",
   "execution_count": null,
   "metadata": {},
   "outputs": [],
   "source": [
    "ses = [set([1,2,3]), set([4,5,6]), set([2,4,6])]\n",
    "list(set(itertools.chain.from_iterable(ses)))"
   ]
  },
  {
   "cell_type": "code",
   "execution_count": null,
   "metadata": {},
   "outputs": [],
   "source": [
    "from FillTools import Fill\n",
    "\n",
    "\n",
    "L5 = Fill(5)\n",
    "for x in L5:\n",
    "    print(x)\n",
    "L5.check_iter()"
   ]
  },
  {
   "cell_type": "code",
   "execution_count": null,
   "metadata": {},
   "outputs": [],
   "source": [
    "ord('a')-ord('b')"
   ]
  },
  {
   "cell_type": "code",
   "execution_count": null,
   "metadata": {},
   "outputs": [],
   "source": [
    "from ModelTools import Model\n",
    "\n",
    "expression = \"TCCabNa\"\n",
    "a_mod = Model(operation_tables={\"T\": np.array([True, False]), \"C\": np.array([[0, 0], [0, 1]]), \"N\": np.array([1, 0])}, size=2)\n",
    "print(a_mod.compile_expression(expression))\n",
    "#a_mod.check_tautological(expression, \"Unlikely\")\n",
    "a_mod.__call__(expression, \"Verify\")"
   ]
  },
  {
   "cell_type": "code",
   "execution_count": null,
   "metadata": {},
   "outputs": [],
   "source": [
    "import numpy as np\n",
    "\n",
    "A = np.random.rand(1, 1, 3, 1)\n",
    "B = np.random.rand(1, 4, 1, 1)\n",
    "(A * B).shape\n",
    "C = np.random.rand(5, 2)\n",
    "def idxC(*args):\n",
    "    return C[*args]\n",
    "idxC(np.array([2, 3]), np.array([[0], [1]]))\n",
    "np.take(A, [0], axis=1).shape"
   ]
  },
  {
   "cell_type": "code",
   "execution_count": null,
   "metadata": {},
   "outputs": [],
   "source": [
    "[0, 1, 2, 3][1:-1]"
   ]
  },
  {
   "cell_type": "code",
   "execution_count": null,
   "metadata": {},
   "outputs": [],
   "source": [
    "hasattr([], \"__len__\")"
   ]
  }
 ],
 "metadata": {
  "kernelspec": {
   "display_name": "Python 3",
   "language": "python",
   "name": "python3"
  },
  "language_info": {
   "codemirror_mode": {
    "name": "ipython",
    "version": 3
   },
   "file_extension": ".py",
   "mimetype": "text/x-python",
   "name": "python",
   "nbconvert_exporter": "python",
   "pygments_lexer": "ipython3",
   "version": "3.11.5"
  }
 },
 "nbformat": 4,
 "nbformat_minor": 4
}
