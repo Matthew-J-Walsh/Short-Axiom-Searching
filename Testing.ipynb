{
 "cells": [
  {
   "cell_type": "code",
   "execution_count": null,
   "metadata": {},
   "outputs": [],
   "source": [
    "from Forms import *\n",
    "\n",
    "table15 = FormTable(13, CLASSICAL_TRUTH, [CLASSICAL_IMPLICATION, CLASSICAL_NEGATION])\n",
    "\n",
    "def test():\n",
    "    count = 0\n",
    "    for expression in table15.__iter__():\n",
    "        count += 1\n",
    "        #if count % 10000 == 0:\n",
    "        #    print(count)\n",
    "    print(count)\n",
    "\n",
    "%prun test()"
   ]
  },
  {
   "cell_type": "code",
   "execution_count": null,
   "metadata": {},
   "outputs": [],
   "source": [
    "def func():\n",
    "    i = iter(\"ABCDE\")\n",
    "    return [next(i) if c==\"_\" else c for c in \"C_CC_CNN___\"]\n",
    "%timeit func()"
   ]
  },
  {
   "cell_type": "code",
   "execution_count": null,
   "metadata": {},
   "outputs": [],
   "source": [
    "def func():\n",
    "    i = iter([1,2,3,4,5])\n",
    "    return [next(i) if c==0 else c for c in [-1, 0, -1, -1, 0, -1, -2, -2, 0, 0, 0]]\n",
    "%timeit func()"
   ]
  },
  {
   "cell_type": "code",
   "execution_count": null,
   "metadata": {},
   "outputs": [],
   "source": [
    "import numpy as np\n",
    "a1 = np.repeat(np.array([-1, 0, -1, -1, 0, -1, -2, -2, 0, 0, 0]), 1000)\n",
    "a2 = np.repeat(np.array([1,2,3,4,5]), 1000)\n",
    "def func():\n",
    "    a3 = a1.copy()\n",
    "    a3[a1==0] = a2\n",
    "    return a3\n",
    "%timeit func()"
   ]
  },
  {
   "cell_type": "code",
   "execution_count": null,
   "metadata": {},
   "outputs": [],
   "source": []
  },
  {
   "cell_type": "code",
   "execution_count": null,
   "metadata": {},
   "outputs": [],
   "source": [
    "from Forms import *\n",
    "\n",
    "arr = Form([FormOpSpec(CLASSICAL_IMPLICATION, 4), FormOpSpec(CLASSICAL_NEGATION, 2)], [FormConstSpec(\"o\", 2)])\n",
    "b = Form([FormOpSpec(CLASSICAL_IMPLICATION, 4), FormOpSpec(CLASSICAL_NEGATION, 2)])\n",
    "print(arr.base_element)\n",
    "print(arr._order_grounded(0))\n",
    "print(arr._order_grounded(-1))\n",
    "print(arr._order_grounded(-2))\n",
    "print(arr._order_grounded(-3))\n",
    "print(\"===========================\")\n",
    "element = np.array([-3, -3, 0, -1, -2, -3, -2, 0, -3, -1, 0])\n",
    "print(element)\n",
    "print(arr.isa_member(element))\n",
    "print(\"===========================\")\n",
    "print(\"===========================\")\n",
    "print(\"===========================\")\n",
    "arr._ground_element(element, -3)\n",
    "print(element)\n",
    "print(\"===========================\")\n",
    "element = np.array([-3, -3, 0, -1, -2, -3, -2, 0, -3, -1, 0])\n",
    "print(element)\n",
    "arr._reset_right(element, -1, 5)\n",
    "print(element)\n",
    "print(\"===========================\")\n",
    "arr._next(element, -1)\n",
    "arr._next(element, -1)\n",
    "print(element)\n",
    "print(\"===========================\")\n",
    "element = np.array([-3, -3, -3, -3, -2, -1, -2, 0, -1, 0, 0])\n",
    "arr._reset_right(element, -2, 7)\n",
    "print(element)"
   ]
  },
  {
   "cell_type": "code",
   "execution_count": null,
   "metadata": {},
   "outputs": [],
   "source": [
    "count = 0\n",
    "for exp in arr.raw_all:\n",
    "    count += 1\n",
    "print(count)\n",
    "count = 0\n",
    "for exp in arr.__iter__():\n",
    "    count += 1\n",
    "print(count)"
   ]
  },
  {
   "cell_type": "code",
   "execution_count": null,
   "metadata": {},
   "outputs": [],
   "source": [
    "arr.check_array()"
   ]
  },
  {
   "cell_type": "code",
   "execution_count": null,
   "metadata": {},
   "outputs": [],
   "source": [
    "from ModelTools import *\n",
    "CN_STANDARD_MODEL(np.array([-3, -2, 1, -2, 2, 1], dtype=np.int8), \"Verify\")\n",
    "#i(i(i(i(i(X,Y),i(n(Z),n(U))),Z),V),i(i(V,X),i(U,X)))\n",
    "CN_STANDARD_MODEL(np.array([-3, -2, -2, -2, -2, -2, 1, 2, -2, -1, 3, -1, 4, 3, 5, -2, -2, 5, 1, -2, 4, 1], dtype=np.int8), \"Verify\")"
   ]
  },
  {
   "cell_type": "code",
   "execution_count": null,
   "metadata": {},
   "outputs": [],
   "source": []
  },
  {
   "cell_type": "code",
   "execution_count": null,
   "metadata": {},
   "outputs": [],
   "source": [
    "%load_ext line_profiler\n",
    "\n",
    "from Forms import *\n",
    "arr = Form([FormOpSpec(CLASSICAL_IMPLICATION, 6), FormOpSpec(CLASSICAL_NEGATION, 7)])\n",
    "\n",
    "#%lprun -m Forms print(a.array.shape)\n",
    "print(arr.length)\n",
    "print(arr.array.shape)"
   ]
  },
  {
   "cell_type": "code",
   "execution_count": null,
   "metadata": {},
   "outputs": [],
   "source": [
    "#C6N7: 9m 39.1s\n",
    "#20: 95.3\n",
    "#18: 22.1\n",
    "#16: 4.5\n",
    "#14: .9"
   ]
  },
  {
   "cell_type": "code",
   "execution_count": 1,
   "metadata": {},
   "outputs": [
    {
     "name": "stdout",
     "output_type": "stream",
     "text": [
      "Processed 2146 formulas.\n"
     ]
    }
   ],
   "source": [
    "%load_ext line_profiler\n",
    "%load_ext memory_profiler\n",
    "\n",
    "from TreeForms import *\n",
    "from TestingUtils import *\n",
    "\n",
    "def func():\n",
    "    arr = np.ones(3, dtype=np.int8)\n",
    "\n",
    "    CN = TreeForm(CN_OPERATIONS[1:], CN_OPERATIONS[0], 11)\n",
    "    test_table = ModelTable(CN_SPEC, counter_model_folder=\"tmp_testing\")\n",
    "\n",
    "    CN.process_tree(11, test_table, BLANK_VAMPIRE_WRAPPER, \"reamining_testing.txt\")\n",
    "\n",
    "func()\n",
    "#%memit func()\n",
    "#%prun func()\n",
    "#%lprun -f TreeForm.Node.process func()\n",
    "#%lprun -f TreeForm.Node.calculate func()\n",
    "#%lprun -f apply_fill_to_cache func()\n",
    "#%lprun -f Model.calculate func()\n",
    "#%lprun -f dimensionally_reorganized_array func()\n",
    "#%lprun -m ModelTools func()\n",
    "#%lprun -m FillTools func()"
   ]
  },
  {
   "cell_type": "code",
   "execution_count": null,
   "metadata": {},
   "outputs": [],
   "source": [
    "#10: .7s old\n",
    "#11: 1.3s old\n",
    "#12: 3.6s old\n",
    "#13: 26.1s\n",
    "#14: 60.0s\n",
    "#15: 292s\n",
    "\n",
    "#Mems:\n",
    "#10: \n",
    "#14: 169.81 MiB\n",
    "#15: 310.27 MiB"
   ]
  },
  {
   "cell_type": "code",
   "execution_count": 1,
   "metadata": {},
   "outputs": [
    {
     "name": "stdout",
     "output_type": "stream",
     "text": [
      "(3, 5)\n",
      "[[0 0 0 0 0]\n",
      " [0 0 1 1 1]\n",
      " [0 1 0 1 2]]\n",
      "[0, 1]\n",
      "[False False  True  True  True]\n",
      "[ True False]\n"
     ]
    }
   ],
   "source": [
    "import numpy as np\n",
    "import FillTools\n",
    "\n",
    "FillTools._initialize_fill_table(3)\n",
    "\n",
    "print(FillTools._fill_table_fills.shape)\n",
    "\n",
    "print(FillTools._fill_table_fills)\n",
    "\n",
    "print(FillTools.fill_dimensions(FillTools.Fill(1, 2)))\n",
    "\n",
    "print(FillTools.fill_upward_cleave(1, 3))\n",
    "\n",
    "print(FillTools.fill_result_disassembly(np.array([[True, True], [False, True]])))"
   ]
  },
  {
   "cell_type": "code",
   "execution_count": null,
   "metadata": {},
   "outputs": [],
   "source": [
    "i = 0\n",
    "''.join([\"abcdef\"[(i := i + 1)] if c == \"_\" else c for c in \"1_2_3_\"])"
   ]
  },
  {
   "cell_type": "code",
   "execution_count": null,
   "metadata": {},
   "outputs": [],
   "source": []
  },
  {
   "cell_type": "code",
   "execution_count": 4,
   "metadata": {},
   "outputs": [
    {
     "data": {
      "text/plain": [
       "(3, 15)"
      ]
     },
     "execution_count": 4,
     "metadata": {},
     "output_type": "execute_result"
    }
   ],
   "source": [
    "import numpy as np\n",
    "\n",
    "np.vstack((np.random.rand(3,3,3) > .5).nonzero()).shape"
   ]
  },
  {
   "cell_type": "code",
   "execution_count": 8,
   "metadata": {},
   "outputs": [],
   "source": [
    "import numpy as np\n",
    "import random\n",
    "\n",
    "A: list[int] = [random.randrange(0, 10, 1) for _ in range(10)]\n",
    "B: list[int] = [random.randrange(0, 10, 1) for _ in range(10)]\n",
    "Arr = np.array(A, dtype=np.int8)\n",
    "Brr = np.array(B, dtype=np.int8)\n",
    "Asp: list[np.int8] = [np.int8(a) for a in A]\n",
    "Bsp: list[np.int8] = [np.int8(b) for b in B]"
   ]
  },
  {
   "cell_type": "code",
   "execution_count": null,
   "metadata": {},
   "outputs": [],
   "source": [
    "%timeit [a for a in A if a not in B]"
   ]
  },
  {
   "cell_type": "code",
   "execution_count": null,
   "metadata": {},
   "outputs": [],
   "source": [
    "%timeit [a for a in Asp if a not in Bsp]"
   ]
  },
  {
   "cell_type": "code",
   "execution_count": null,
   "metadata": {},
   "outputs": [],
   "source": [
    "%timeit np.array([a for a in Arr if a not in Brr], dtype=np.int8)"
   ]
  },
  {
   "cell_type": "code",
   "execution_count": null,
   "metadata": {},
   "outputs": [],
   "source": [
    "%timeit np.setdiff1d(Arr, Brr, assume_unique=True).astype(np.int8)"
   ]
  },
  {
   "cell_type": "code",
   "execution_count": null,
   "metadata": {},
   "outputs": [],
   "source": [
    "%timeit [a for a in Arr.tolist() if a not in Brr.tolist()]"
   ]
  },
  {
   "cell_type": "code",
   "execution_count": null,
   "metadata": {},
   "outputs": [],
   "source": [
    "print(CN._PSUDEO_NODE_CACHE[2])"
   ]
  },
  {
   "cell_type": "code",
   "execution_count": null,
   "metadata": {},
   "outputs": [],
   "source": [
    "import numpy as np\n",
    "from ModelTools import dimensionally_reorganized_array\n",
    "\n",
    "target = np.array([5, 2, 1, 0, 3], dtype=np.int8)\n",
    "current = np.array([3, 1], dtype=np.int8)\n",
    "arr = np.arange(9).reshape(3,3).astype(np.int8)\n",
    "reorganized = dimensionally_reorganized_array(target, arr, current)\n",
    "print(reorganized.shape)\n",
    "print(arr[:,:])\n",
    "print(reorganized[:,:,:,:,:])\n",
    "print(arr[:,0])\n",
    "print(reorganized[:,:,0,:,:])\n",
    "print(arr[:,1])\n",
    "print(reorganized[:,:,1,:,:])\n",
    "print(arr[:,2])\n",
    "print(reorganized[:,:,2,:,:])\n",
    "print(arr[0,:])\n",
    "print(reorganized[:,:,:,:,0])\n",
    "print(arr[1,:])\n",
    "print(reorganized[:,:,:,:,1])\n",
    "print(arr[2,:])\n",
    "print(reorganized[:,:,:,:,2])"
   ]
  },
  {
   "cell_type": "code",
   "execution_count": null,
   "metadata": {},
   "outputs": [],
   "source": []
  },
  {
   "cell_type": "markdown",
   "metadata": {},
   "source": [
    "CN__\n",
    "C_N_\n",
    "NC__\n",
    "NNN_"
   ]
  },
  {
   "cell_type": "code",
   "execution_count": null,
   "metadata": {},
   "outputs": [],
   "source": []
  },
  {
   "cell_type": "code",
   "execution_count": null,
   "metadata": {},
   "outputs": [],
   "source": [
    "from MathUtilities import bells\n",
    "from FillTools import FillTable.Fills, _check_surjective_table, _generate_surjective_table_dumb, _generate_surjective_table_pseudo\n",
    "import numpy as np\n",
    "\n",
    "num = 6\n",
    "print(bells(num))\n",
    "fills, table = FillTable._initialize_fill_table(num)\n",
    "print(fills.shape)\n",
    "print(table.shape)\n",
    "#print(fills[fills.max(axis=1)==2])\n",
    "print(fills)"
   ]
  },
  {
   "cell_type": "code",
   "execution_count": null,
   "metadata": {},
   "outputs": [],
   "source": [
    "_generate_surjective_table_dumb(num, fills)"
   ]
  },
  {
   "cell_type": "code",
   "execution_count": null,
   "metadata": {},
   "outputs": [],
   "source": [
    "_generate_surjective_table_pseudo(num, fills)"
   ]
  },
  {
   "cell_type": "code",
   "execution_count": null,
   "metadata": {},
   "outputs": [],
   "source": [
    "_check_surjective_table(num, fills)"
   ]
  },
  {
   "cell_type": "code",
   "execution_count": null,
   "metadata": {},
   "outputs": [],
   "source": [
    "%load_ext line_profiler\n",
    "from Forms import *\n",
    "from VampireUtils import *\n",
    "\n",
    "def func():\n",
    "    test_forms = FormTable(12, CLASSICAL_TRUTH, [CLASSICAL_IMPLICATION, CLASSICAL_NEGATION]) #14\n",
    "    test_models = ModelTable(CN_SPEC, CN_STANDARD_MODEL) #[CLASSICAL_TRUTH, CLASSICAL_IMPLICATION, CLASSICAL_NEGATION]\n",
    "    #test_models = ModelTable(Model([np.array([True, False, True], dtype=np.bool_), \n",
    "    #                                np.array([[1, 2, 0], [2, 2, 0], [1, 0, 1]], dtype=np.int8),\n",
    "    #                                np.array([1, 2, 1], dtype=np.int8)])) #random 3 size\n",
    "    \n",
    "    #for forms, fills in test_forms.array:\n",
    "    #    print(forms)\n",
    "\n",
    "    test_forms.process(test_models, BLANK_VAMPIRE_WRAPPER, \"test_excess.txt\")\n",
    "\n",
    "#%lprun -m ModelTools func()\n",
    "%lprun -m Forms func()"
   ]
  },
  {
   "cell_type": "code",
   "execution_count": null,
   "metadata": {},
   "outputs": [],
   "source": [
    "#11: 4s\n",
    "#12: 13s\n",
    "#13: 39s\n",
    "#14: 118s"
   ]
  },
  {
   "cell_type": "code",
   "execution_count": null,
   "metadata": {},
   "outputs": [],
   "source": [
    "list(range(1, 10))[1::2]"
   ]
  },
  {
   "cell_type": "code",
   "execution_count": null,
   "metadata": {},
   "outputs": [],
   "source": [
    "def remove_duplicates(lst):\n",
    "    seen = set()\n",
    "    return [x for x in lst if x not in seen and not seen.add(x)]\n",
    "\n",
    "# Example usage\n",
    "lst = [1, 2, 2, 6, 3, 4, 1, 5, 3]\n",
    "result = remove_duplicates(lst)\n",
    "print(result)  # Output: [1, 2, 3, 4, 5]"
   ]
  },
  {
   "cell_type": "code",
   "execution_count": null,
   "metadata": {},
   "outputs": [],
   "source": [
    "import numpy as np\n",
    "\n",
    "arr = np.arange(8).reshape(2,2,2)\n",
    "diagonal_dims = [2, 1, 0]\n",
    "#print(arr.diagonal(0, diagonal_dims[0], diagonal_dims[1]))\n",
    "#for indices in np.ndindex(arr.shape):\n",
    "#    if indices[diagonal_dims[0]]==indices[diagonal_dims[1]]:\n",
    "#        print(arr[indices])\n",
    "\n",
    "grids = np.stack(np.meshgrid(*[np.arange(dim) for dim in arr.shape], indexing='ij'))\n",
    "mask = np.all(grids[diagonal_dims[0]]==grids[diagonal_dims], axis=0)\n",
    "print(arr[mask])\n",
    "mask"
   ]
  },
  {
   "cell_type": "code",
   "execution_count": null,
   "metadata": {},
   "outputs": [],
   "source": [
    "import numpy as np\n",
    "from ModelTools import apply_fill_to_cache, _apply_fill_to_cache_forced_iteration\n",
    "\n",
    "A = np.arange(81).reshape(3,3,3,3)\n",
    "print(apply_fill_to_cache(A, np.array([5,5,5,2,3,3])))\n",
    "print(_apply_fill_to_cache_forced_iteration(A, np.array([5,5,5,2,3,3])))\n",
    "print(A)"
   ]
  },
  {
   "cell_type": "code",
   "execution_count": null,
   "metadata": {},
   "outputs": [],
   "source": [
    "import numpy as np\n",
    "def func(x):\n",
    "    x += 1\n",
    "\n",
    "A = np.array([0, 1, 2])\n",
    "func(A[1:])\n",
    "A"
   ]
  },
  {
   "cell_type": "code",
   "execution_count": null,
   "metadata": {},
   "outputs": [],
   "source": [
    "def valid_dyck_word(word, arity = 2):\n",
    "    if word[0]!=0:\n",
    "        return False\n",
    "    \n",
    "    for i in range(1, len(word)):\n",
    "        if word[i] > i * (arity - 1):\n",
    "            return False\n",
    "        if word[i] < word[i-1]:\n",
    "            return False\n",
    "        \n",
    "    if word[-1]!=(len(word)-1)*(arity - 1):\n",
    "        return False\n",
    "        \n",
    "    return True\n",
    "\n",
    "def _iterate_word(word, arity = 2):\n",
    "    word[-1] += 1\n",
    "    i = len(word) - 1\n",
    "    while word[i] > (i + 1) * (arity - 1):\n",
    "        if i==0:\n",
    "            word[0] = 10 * arity\n",
    "            return\n",
    "        word[i-1] += 1\n",
    "        word[i] = word[i-1]\n",
    "    \n",
    "def word_iter(count, arity = 2):\n",
    "    current_word = [0] * (count-1)\n",
    "    while valid_dyck_word([0]+current_word+[count * (arity - 1)], arity=arity):\n",
    "        yield [0]+current_word+[count * (arity - 1)]\n",
    "        _iterate_word(current_word, arity=arity)\n",
    "\n",
    "def dyck_word_to_exp(word, letter=\"D\"):\n",
    "    exp = \"\"\n",
    "    for i in range(1, len(word)):\n",
    "        exp += letter + \"_\" * (word[i] - word[i-1])\n",
    "    exp += \"_\"\n",
    "    return exp\n",
    "\n",
    "word = [0,1,1,3,4]\n",
    "print(valid_dyck_word(word))\n",
    "print(dyck_word_to_exp(word))\n",
    "\n",
    "word = [0,1,2,5,8]\n",
    "print(valid_dyck_word(word, arity=3))\n",
    "print(dyck_word_to_exp(word))\n",
    "word = [1,2,6]\n",
    "_iterate_word(word, arity=3)\n",
    "print(word)"
   ]
  },
  {
   "cell_type": "code",
   "execution_count": null,
   "metadata": {},
   "outputs": [],
   "source": [
    "for word in word_iter(3, arity=3):\n",
    "    print(dyck_word_to_exp(word))"
   ]
  },
  {
   "cell_type": "code",
   "execution_count": null,
   "metadata": {},
   "outputs": [],
   "source": [
    "\n",
    "\n",
    "\n",
    "CN = Form([('C', 2, 4), ('N', 1, 2)])\n",
    "print(\"================\")\n",
    "print(CN.ground_state)\n",
    "print(\"================\")\n",
    "print(CN._valid_state(\"C_CC_C__NN_\"))\n",
    "print(\"================\")\n",
    "print(CN._valid_state(\"CCCC_____NN\"))\n",
    "print(\"================\")\n",
    "print(CN._valid_state(\"CCC____C___\"))\n",
    "print(\"================\")\n",
    "print(CN._ground_state(\"C_CC_CNN___\", level=2))"
   ]
  },
  {
   "cell_type": "code",
   "execution_count": null,
   "metadata": {},
   "outputs": [],
   "source": [
    "CND = Form([('C', 2, 2), ('N', 1, 1), ('D', 3, 2)])\n",
    "CND.check_iter()\n",
    "for exp in CND:\n",
    "    print(exp)"
   ]
  },
  {
   "cell_type": "code",
   "execution_count": null,
   "metadata": {},
   "outputs": [],
   "source": [
    "CN.check_iter()"
   ]
  },
  {
   "cell_type": "code",
   "execution_count": null,
   "metadata": {},
   "outputs": [],
   "source": [
    "for exp in CN:\n",
    "    print(exp)"
   ]
  },
  {
   "cell_type": "code",
   "execution_count": null,
   "metadata": {},
   "outputs": [],
   "source": [
    "'CCC_NC__N__'"
   ]
  },
  {
   "cell_type": "code",
   "execution_count": null,
   "metadata": {},
   "outputs": [],
   "source": [
    "A = [0, 1, 2, 3]\n",
    "A[2]"
   ]
  },
  {
   "cell_type": "code",
   "execution_count": null,
   "metadata": {},
   "outputs": [],
   "source": [
    "ses = [set([1,2,3]), set([4,5,6]), set([2,4,6])]\n",
    "list(set(itertools.chain.from_iterable(ses)))"
   ]
  },
  {
   "cell_type": "code",
   "execution_count": null,
   "metadata": {},
   "outputs": [],
   "source": [
    "from FillTools import Fill\n",
    "\n",
    "\n",
    "L5 = Fill(5)\n",
    "for x in L5:\n",
    "    print(x)\n",
    "L5.check_iter()"
   ]
  },
  {
   "cell_type": "code",
   "execution_count": null,
   "metadata": {},
   "outputs": [],
   "source": [
    "ord('a')-ord('b')"
   ]
  },
  {
   "cell_type": "code",
   "execution_count": null,
   "metadata": {},
   "outputs": [],
   "source": [
    "from ModelTools import Model\n",
    "\n",
    "expression = \"TCCabNa\"\n",
    "a_mod = Model(operation_tables={\"T\": np.array([True, False]), \"C\": np.array([[0, 0], [0, 1]]), \"N\": np.array([1, 0])}, size=2)\n",
    "print(a_mod.compile_expression(expression))\n",
    "#a_mod.check_tautological(expression, \"Unlikely\")\n",
    "a_mod.__call__(expression, \"Verify\")"
   ]
  },
  {
   "cell_type": "code",
   "execution_count": null,
   "metadata": {},
   "outputs": [],
   "source": [
    "import numpy as np\n",
    "\n",
    "A = np.random.rand(1, 1, 3, 1)\n",
    "B = np.random.rand(1, 4, 1, 1)\n",
    "(A * B).shape\n",
    "C = np.random.rand(5, 2)\n",
    "def idxC(*args):\n",
    "    return C[*args]\n",
    "idxC(np.array([2, 3]), np.array([[0], [1]]))\n",
    "np.take(A, [0], axis=1).shape"
   ]
  },
  {
   "cell_type": "code",
   "execution_count": null,
   "metadata": {},
   "outputs": [],
   "source": [
    "[0, 1, 2, 3][1:-1]"
   ]
  },
  {
   "cell_type": "code",
   "execution_count": null,
   "metadata": {},
   "outputs": [],
   "source": [
    "hasattr([], \"__len__\")"
   ]
  }
 ],
 "metadata": {
  "kernelspec": {
   "display_name": "Python 3",
   "language": "python",
   "name": "python3"
  },
  "language_info": {
   "codemirror_mode": {
    "name": "ipython",
    "version": 3
   },
   "file_extension": ".py",
   "mimetype": "text/x-python",
   "name": "python",
   "nbconvert_exporter": "python",
   "pygments_lexer": "ipython3",
   "version": "3.7.6"
  }
 },
 "nbformat": 4,
 "nbformat_minor": 4
}
